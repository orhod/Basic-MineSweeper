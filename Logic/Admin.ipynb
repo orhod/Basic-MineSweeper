{
  "nbformat": 4,
  "nbformat_minor": 0,
  "metadata": {
    "colab": {
      "provenance": [],
      "authorship_tag": "ABX9TyPXvrhnlsBcHz7ZmsvmAriC",
      "include_colab_link": true
    },
    "kernelspec": {
      "name": "python3",
      "display_name": "Python 3"
    },
    "language_info": {
      "name": "python"
    }
  },
  "cells": [
    {
      "cell_type": "markdown",
      "metadata": {
        "id": "view-in-github",
        "colab_type": "text"
      },
      "source": [
        "<a href=\"https://colab.research.google.com/github/orhod/Basic-MineSweeper/blob/main/Logic/Admin.ipynb\" target=\"_parent\"><img src=\"https://colab.research.google.com/assets/colab-badge.svg\" alt=\"Open In Colab\"/></a>"
      ]
    },
    {
      "cell_type": "code",
      "execution_count": null,
      "metadata": {
        "id": "0BcCZ6PNAjWV"
      },
      "outputs": [],
      "source": [
        "import os, sys,re\n",
        "\n",
        "\n",
        "try:\n",
        "    # Step 1: Clone the GitHub repository if not already present\n",
        "    if not os.path.exists(\"/content/Project-Pheonix\"):\n",
        "        !git clone https://github.com/Cloud-Course-Group-Phoenix/Project-Pheonix.git /content/Project-Pheonix\n",
        "\n",
        "    # Step 2: Change directory to project root\n",
        "    %cd /content/Project-Pheonix\n",
        "\n",
        "    # Step 3: Checkout the 'main' branch (or develop if you have one)\n",
        "    !git fetch origin -q\n",
        "    !git checkout main -q\n",
        "\n",
        "    # Step 4: Add project directory to Python path\n",
        "    sys.path.append(\"/content/Project-Pheonix/Logic\")\n",
        "\n",
        "    # Step 5: Install required Python packages (quietly)\n",
        "    %pip install -q firebase\n",
        "    %pip install -q importnb\n",
        "\n",
        "    print(\"✅ Setup completed successfully.\")\n",
        "    from importnb import Notebook\n",
        "    with Notebook():\n",
        "        import CloudDB as dbService\n",
        "        import Indexmqtt as indx\n",
        "\n",
        "except Exception as e:\n",
        "    print(\"❌ Setup failed:\", str(e))\n",
        "\n",
        "# Clear installation output for cleaner display\n",
        "from IPython.display import clear_output\n",
        "clear_output()"
      ]
    },
    {
      "cell_type": "code",
      "source": [
        "# Get the top 10 most searched terms from the index\n",
        "def get_top_search_terms():\n",
        "    stats = dbService.get_from_db('indexStats')\n",
        "    if not stats or 'search_counts' not in stats:\n",
        "        return []\n",
        "    sorted_terms = sorted(\n",
        "        stats['search_counts'].items(),\n",
        "        key=operator.itemgetter(1),\n",
        "        reverse=True\n",
        "    )[:10]\n",
        "    if sorted_terms:\n",
        "        return sorted_terms\n",
        "    return []\n",
        "\n",
        "\n",
        "# Record that a term was searched\n",
        "def record_search_term(term):\n",
        "    stats = dbService.get_from_db('indexStats')\n",
        "    if not stats:\n",
        "        stats = {\"search_counts\": {\"placeholder\": 0}}\n",
        "    elif 'search_counts' not in stats:\n",
        "        stats['search_counts'] = {\"placeholder\": 0}\n",
        "\n",
        "    # Remove placeholder if it exists and this isn't a placeholder term\n",
        "    if \"placeholder\" in stats['search_counts'] and term != \"placeholder\":\n",
        "        if len(stats['search_counts']) > 1:  # Only remove if there are other terms\n",
        "            del stats['search_counts'][\"placeholder\"]\n",
        "\n",
        "    # Increment search count for this term\n",
        "    if term in stats['search_counts']:\n",
        "        stats['search_counts'][term] += 1\n",
        "    else:\n",
        "        stats['search_counts'][term] = 1\n",
        "\n",
        "    # Save back to DB\n",
        "    dbService.insert_to_db_stats(stats)\n",
        "\n",
        "\n",
        "# Get the current status of the index\n",
        "def update_index_status():\n",
        "    stats = dbService.get_from_db('indexStats')\n",
        "    if not stats:\n",
        "      dbService.init_stats_if_needed()\n",
        "    return {\n",
        "      \"word_count\": stats.get(\"word_count\", 0),\n",
        "      \"page_count\": stats.get(\"page_count\", 0),\n",
        "      \"last_indexed\": stats.get(\"last_indexed\", \"Unknown\")\n",
        "    }\n",
        "\n",
        "\n",
        "\n",
        "def get_daily_tasks():\n",
        "    return dbService.get_from_db('dailyTasks') or []\n",
        "\n",
        "def add_daily_task(task):\n",
        "    if not task:\n",
        "        return\n",
        "    tasks = get_daily_tasks()\n",
        "    tasks.append(task)\n",
        "    dbService.insert_to_db_task(tasks)\n",
        "\n",
        "def remove_daily_task(task):\n",
        "    tasks = get_daily_tasks()\n",
        "    if task in tasks:\n",
        "        tasks.remove(task)\n",
        "        dbService.insert_to_db_task(tasks)\n",
        "\n",
        "\n",
        "\n",
        "def get_index_status():\n",
        "  return dbService.get_from_db('indexStats')\n",
        "\n",
        "def reindex_content():\n",
        "  return indx.index_mqtt_website()\n",
        "\n",
        "# Track search terms for stats\n",
        "def track_search_terms(query):\n",
        "    if query :\n",
        "        words = re.findall(r'\\w+', query.lower())\n",
        "        for word in words:\n",
        "            indx.record_search_term(word)\n",
        "\"\"\"\n",
        "# Check if MQTT broker is connected\n",
        "def get_mqtt_connection_status():\n",
        "    # Get the singleton instance\n",
        "    mqtt_conn = MqttConnection.get_instance()\n",
        "    if mqtt_conn is not None:\n",
        "        return mqtt_conn.connected\n",
        "    return False\n",
        "\n",
        "\n",
        "# Reconnect to the MQTT broker\n",
        "def reconnect_mqtt():\n",
        "    try:\n",
        "        # Get the singleton instance\n",
        "        mqtt_conn = MqttConnection.get_instance()\n",
        "\n",
        "        if mqtt_conn is None:\n",
        "            # Create a new connection if one doesn't exist\n",
        "            mqtt_conn = MqttConnection.get_instance(db_url)\n",
        "            success = mqtt_conn.mqtt_handler()\n",
        "        else:\n",
        "            # Stop the current loop if it's running\n",
        "            mqtt_conn.client.loop_stop()\n",
        "            # Create a fresh connection\n",
        "            success = mqtt_conn.mqtt_handler()\n",
        "\n",
        "        if success:\n",
        "            return \"✅ Connected to MQTT Broker\"\n",
        "        else:\n",
        "            return \"❌ Failed to reconnect to MQTT Broker\"\n",
        "    except Exception as e:\n",
        "        return f\"Error reconnecting to MQTT: {str(e)}\"\n",
        "  \"\"\"\n"
      ],
      "metadata": {
        "colab": {
          "base_uri": "https://localhost:8080/",
          "height": 139
        },
        "id": "4tLfkzT5Aml3",
        "outputId": "2315b028-9643-45ff-8abb-484d2385e3b7"
      },
      "execution_count": null,
      "outputs": [
        {
          "output_type": "execute_result",
          "data": {
            "text/plain": [
              "'\\n# Check if MQTT broker is connected\\ndef get_mqtt_connection_status():\\n    # Get the singleton instance\\n    mqtt_conn = MqttConnection.get_instance()\\n    if mqtt_conn is not None:\\n        return mqtt_conn.connected\\n    return False\\n\\n\\n# Reconnect to the MQTT broker\\ndef reconnect_mqtt():\\n    try:\\n        # Get the singleton instance\\n        mqtt_conn = MqttConnection.get_instance()\\n\\n        if mqtt_conn is None:\\n            # Create a new connection if one doesn\\'t exist\\n            mqtt_conn = MqttConnection.get_instance(db_url)\\n            success = mqtt_conn.mqtt_handler()\\n        else:\\n            # Stop the current loop if it\\'s running\\n            mqtt_conn.client.loop_stop()\\n            # Create a fresh connection\\n            success = mqtt_conn.mqtt_handler()\\n\\n        if success:\\n            return \"✅ Connected to MQTT Broker\"\\n        else:\\n            return \"❌ Failed to reconnect to MQTT Broker\"\\n    except Exception as e:\\n        return f\"Error reconnecting to MQTT: {str(e)}\"\\n  '"
            ],
            "application/vnd.google.colaboratory.intrinsic+json": {
              "type": "string"
            }
          },
          "metadata": {},
          "execution_count": 5
        }
      ]
    }
  ]
}