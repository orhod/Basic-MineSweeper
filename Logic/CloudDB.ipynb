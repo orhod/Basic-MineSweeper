{
  "nbformat": 4,
  "nbformat_minor": 0,
  "metadata": {
    "colab": {
      "provenance": [],
      "authorship_tag": "ABX9TyNV70cS07aESVXCgDuneRZk",
      "include_colab_link": true
    },
    "kernelspec": {
      "name": "python3",
      "display_name": "Python 3"
    },
    "language_info": {
      "name": "python"
    }
  },
  "cells": [
    {
      "cell_type": "markdown",
      "metadata": {
        "id": "view-in-github",
        "colab_type": "text"
      },
      "source": [
        "<a href=\"https://colab.research.google.com/github/orhod/Basic-MineSweeper/blob/main/Logic/CloudDB.ipynb\" target=\"_parent\"><img src=\"https://colab.research.google.com/assets/colab-badge.svg\" alt=\"Open In Colab\"/></a>"
      ]
    },
    {
      "cell_type": "code",
      "execution_count": null,
      "metadata": {
        "id": "047ADqrkrsWY"
      },
      "outputs": [],
      "source": [
        "from firebase import firebase\n",
        "from datetime import datetime"
      ]
    },
    {
      "cell_type": "code",
      "source": [
        "DBLink = \"https://couldproject-a621d-default-rtdb.europe-west1.firebasedatabase.app/\""
      ],
      "metadata": {
        "id": "5kwEphSfrzE6"
      },
      "execution_count": null,
      "outputs": []
    },
    {
      "cell_type": "code",
      "source": [
        "FBconn = firebase.FirebaseApplication(DBLink, None)\n",
        "\n",
        "\n",
        "def insert_to_db_index(results, page_count):\n",
        "      FBconn.put('/','terms', results)\n",
        "      stats = FBconn.get('/', 'indexStats') or {}\n",
        "      stats[\"word_count\"] = len(results)\n",
        "      stats[\"page_count\"] = page_count\n",
        "      stats[\"last_indexed\"] = datetime.now().strftime(\"%Y-%m-%d %H:%M:%S\")\n",
        "      FBconn.put('/','indexStats', stats)\n",
        "      return stats[\"last_indexed\"]\n",
        "\n",
        "def get_from_db(path):\n",
        "      results = FBconn.get('/',path)\n",
        "      return results\n",
        "\n",
        "def insert_to_db_sensor(location,data):\n",
        "      FBconn.put('/', f'/Data/{location}', data)\n",
        "      return\n",
        "\n",
        "def init_stats_if_needed():\n",
        "    stats = FBconn.get('/', 'indexStats')\n",
        "    if not stats:\n",
        "        # Initialize with default values\n",
        "        default_stats = {\n",
        "            \"word_count\": 0,\n",
        "            \"page_count\": 0,\n",
        "            \"last_indexed\": datetime.now().strftime(\"%Y-%m-%d %H:%M:%S\"),\n",
        "            \"search_counts\": {\"placeholder\": 0}  # Start with a placeholder entry\n",
        "        }\n",
        "        FBconn.put('/', 'indexStats' , default_stats)\n",
        "\n",
        "def insert_to_db_stats(stats):\n",
        "      FBconn.put('/', 'indexStats' , stats)\n",
        "      return\n"
      ],
      "metadata": {
        "id": "8RfZd6Lgr31a"
      },
      "execution_count": null,
      "outputs": []
    }
  ]
}