{
  "nbformat": 4,
  "nbformat_minor": 0,
  "metadata": {
    "colab": {
      "provenance": [],
      "include_colab_link": true
    },
    "kernelspec": {
      "name": "python3",
      "display_name": "Python 3"
    },
    "language_info": {
      "name": "python"
    }
  },
  "cells": [
    {
      "cell_type": "markdown",
      "metadata": {
        "id": "view-in-github",
        "colab_type": "text"
      },
      "source": [
        "<a href=\"https://colab.research.google.com/github/orhod/Basic-MineSweeper/blob/main/Logic/CloudDBTest.ipynb\" target=\"_parent\"><img src=\"https://colab.research.google.com/assets/colab-badge.svg\" alt=\"Open In Colab\"/></a>"
      ]
    },
    {
      "cell_type": "code",
      "execution_count": null,
      "metadata": {
        "id": "047ADqrkrsWY",
        "colab": {
          "base_uri": "https://localhost:8080/"
        },
        "outputId": "cdf396d7-ce3b-4632-b365-afa096d51749"
      },
      "outputs": [
        {
          "output_type": "stream",
          "name": "stdout",
          "text": [
            "\u001b[?25l   \u001b[90m━━━━━━━━━━━━━━━━━━━━━━━━━━━━━━━━━━━━━━━━\u001b[0m \u001b[32m0.0/46.0 kB\u001b[0m \u001b[31m?\u001b[0m eta \u001b[36m-:--:--\u001b[0m\r\u001b[2K   \u001b[90m━━━━━━━━━━━━━━━━━━━━━━━━━━━━━━━━━━━━━━━━\u001b[0m \u001b[32m46.0/46.0 kB\u001b[0m \u001b[31m1.8 MB/s\u001b[0m eta \u001b[36m0:00:00\u001b[0m\n",
            "\u001b[?25h"
          ]
        }
      ],
      "source": [
        "# Install required Python packages\n",
        "%pip install -q firebase\n",
        "%pip install -q importnb\n",
        "\n",
        "from firebase import firebase\n",
        "from datetime import datetime"
      ]
    },
    {
      "cell_type": "code",
      "source": [
        "DBLink = \"https://couldproject-a621d-default-rtdb.europe-west1.firebasedatabase.app/\""
      ],
      "metadata": {
        "id": "5kwEphSfrzE6"
      },
      "execution_count": null,
      "outputs": []
    },
    {
      "cell_type": "code",
      "source": [
        "FBconn = firebase.FirebaseApplication(DBLink, None)\n",
        "\n",
        "def insert_to_db_index(results, page_count):\n",
        "      FBconn.put('/','terms', results)\n",
        "      stats = FBconn.get('/', 'indexStats') or {}\n",
        "      stats[\"word_count\"] = len(results)\n",
        "      stats[\"page_count\"] = page_count\n",
        "      stats[\"last_indexed\"] = datetime.now().strftime(\"%Y-%m-%d %H:%M:%S\")\n",
        "      FBconn.put('/','indexStats', stats)\n",
        "      return stats[\"last_indexed\"]\n",
        "\n",
        "def get_from_db(path):\n",
        "      results = FBconn.get('/',path)\n",
        "      return results\n",
        "\n",
        "def insert_to_db_sensor(location, data):\n",
        "      FBconn.put('/', f'/Data/{location}', data)\n",
        "      return\n",
        "\n",
        "def init_stats_if_needed():\n",
        "    stats = FBconn.get('/', 'indexStats')\n",
        "    if not stats:\n",
        "        # Initialize with default values\n",
        "        default_stats = {\n",
        "            \"word_count\": 0,\n",
        "            \"page_count\": 0,\n",
        "            \"last_indexed\": datetime.now().strftime(\"%Y-%m-%d %H:%M:%S\"),\n",
        "            \"search_counts\": {\"placeholder\": 0}  # Start with a placeholder entry\n",
        "        }\n",
        "        FBconn.put('/', 'indexStats' , default_stats)\n",
        "\n",
        "def insert_to_db_stats(stats):\n",
        "    FBconn.put('/', 'indexStats' , stats)\n",
        "    return\n",
        "\n",
        "def add_task(task):\n",
        "    # Get current tasks to generate a simple unique ID\n",
        "    tasks = FBconn.get('/', 'Tasks') or {}\n",
        "    # Generate a simple unique ID based on current timestamp\n",
        "    task_id = f\"task_{datetime.now().strftime('%Y%m%d_%H%M%S_%f')}\"\n",
        "    # Add the task with a unique key\n",
        "    FBconn.put('/Tasks', task_id, task)\n",
        "    return task_id\n",
        "\n",
        "def insert_to_db_task(task):\n",
        "    FBconn.put('/', 'Tasks' , task)\n",
        "    return\n",
        "\n",
        "def delete_task(task_id):\n",
        "    \"\"\"Delete a task by its ID\"\"\"\n",
        "    try:\n",
        "        FBconn.delete('/Tasks', task_id)\n",
        "        return True\n",
        "    except Exception as e:\n",
        "        print(f\"Error deleting task: {e}\")\n",
        "        return False\n",
        "\n",
        "def delete_task_by_name(task_name):\n",
        "    \"\"\"Delete a task by its name - for backward compatibility\"\"\"\n",
        "    tasks = FBconn.get('/', 'Tasks') or {}\n",
        "    task_id_to_delete = None\n",
        "\n",
        "    for task_id, task_data in tasks.items():\n",
        "        if isinstance(task_data, dict) and task_data.get(\"name\") == task_name:\n",
        "            task_id_to_delete = task_id\n",
        "            break\n",
        "\n",
        "    if task_id_to_delete:\n",
        "        return delete_task(task_id_to_delete)\n",
        "    return False\n",
        "\n",
        "def get_task(taskName):\n",
        "    tasks = FBconn.get('/', 'Tasks') or {}\n",
        "    for task_id, task_data in tasks.items():\n",
        "        if isinstance(task_data, dict) and task_data.get(\"name\") == taskName:\n",
        "            return task_data\n",
        "    return None\n",
        "\n",
        "def get_all_tasks_dict():\n",
        "    \"\"\"Get all tasks as a dictionary with IDs as keys\"\"\"\n",
        "    return FBconn.get('/', 'Tasks') or {}\n",
        "\n",
        "def mark_task_complete(task_id):\n",
        "    \"\"\"Mark a task as complete\"\"\"\n",
        "    tasks = FBconn.get('/', 'Tasks') or {}\n",
        "    if task_id in tasks:\n",
        "        task = tasks[task_id]\n",
        "        task['completed'] = True\n",
        "        FBconn.put('/Tasks', task_id, task)\n",
        "        return True\n",
        "    return False\n",
        "\n",
        "def mark_task_complete_by_name(task_name):\n",
        "    \"\"\"Mark a task as complete by name - for backward compatibility\"\"\"\n",
        "    tasks = FBconn.get('/', 'Tasks') or {}\n",
        "    for task_id, task_data in tasks.items():\n",
        "        if isinstance(task_data, dict) and task_data.get(\"name\") == task_name:\n",
        "            task_data['completed'] = True\n",
        "            FBconn.put('/Tasks', task_id, task_data)\n",
        "            return True\n",
        "    return False\n",
        "\n",
        "def get_user_by_username(user_name):\n",
        "    users = FBconn.get('/', 'users') or {}\n",
        "    user = users.get(user_name)\n",
        "    return user\n",
        "\n",
        "def insert_to_db_user(username, user_data):\n",
        "    users = FBconn.get('/', 'users') or {}\n",
        "    FBconn.put('/users', username, user_data)\n",
        "    return True\n",
        "\n",
        "def check_user_exists(username):\n",
        "    users = FBconn.get('/', 'users') or {}\n",
        "    return username in users\n",
        "\n",
        "def get_coins_from_db(username):\n",
        "    users = FBconn.get('/', 'users') or {}\n",
        "    user = users.get(username)\n",
        "    if user:\n",
        "        return user.get('coins', 0)\n",
        "\n",
        "def change_coins_for_user(username,coins):\n",
        "    users = FBconn.get('/', 'users') or {}\n",
        "    user = users.get(username)\n",
        "    if user:\n",
        "        currentCoins = user.get('coins', 0)\n",
        "        FBconn.put('/users', username, {'coins': currentCoins + coins})\n",
        "        return True\n",
        "    return False\n",
        "\n",
        "init_stats_if_needed()"
      ],
      "metadata": {
        "id": "8RfZd6Lgr31a"
      },
      "execution_count": null,
      "outputs": []
    }
  ]
}